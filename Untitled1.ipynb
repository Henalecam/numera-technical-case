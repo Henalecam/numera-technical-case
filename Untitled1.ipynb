{
 "cells": [
  {
   "cell_type": "code",
   "execution_count": 1,
   "id": "ab46473f-f6b2-4474-a947-244dd39eeaaf",
   "metadata": {},
   "outputs": [],
   "source": [
    "import pandas as pd"
   ]
  },
  {
   "cell_type": "code",
   "execution_count": 5,
   "id": "de89b9f9-a35f-472d-ba62-0687d42f6ce4",
   "metadata": {},
   "outputs": [],
   "source": [
    "portfolio_ofertas = pd.read_csv('./Datas/portfolio_ofertas.csv')\n",
    "clientes = pd.read_csv('./Datas/clientes.csv')\n",
    "ofertas = pd.read_csv('./Datas/ofertas.csv')"
   ]
  },
  {
   "cell_type": "code",
   "execution_count": 13,
   "id": "b0497e68-f228-462d-88ba-8ef764316969",
   "metadata": {},
   "outputs": [
    {
     "data": {
      "text/html": [
       "<div>\n",
       "<style scoped>\n",
       "    .dataframe tbody tr th:only-of-type {\n",
       "        vertical-align: middle;\n",
       "    }\n",
       "\n",
       "    .dataframe tbody tr th {\n",
       "        vertical-align: top;\n",
       "    }\n",
       "\n",
       "    .dataframe thead th {\n",
       "        text-align: right;\n",
       "    }\n",
       "</style>\n",
       "<table border=\"1\" class=\"dataframe\">\n",
       "  <thead>\n",
       "    <tr style=\"text-align: right;\">\n",
       "      <th></th>\n",
       "      <th>Unnamed: 0</th>\n",
       "      <th>genero</th>\n",
       "      <th>idade</th>\n",
       "      <th>id</th>\n",
       "      <th>membro_desde</th>\n",
       "      <th>renda_anual</th>\n",
       "    </tr>\n",
       "  </thead>\n",
       "  <tbody>\n",
       "    <tr>\n",
       "      <th>0</th>\n",
       "      <td>1</td>\n",
       "      <td>NaN</td>\n",
       "      <td>118</td>\n",
       "      <td>68be06ca386d4c31939f3a4f0e3dd783</td>\n",
       "      <td>20170212</td>\n",
       "      <td>NaN</td>\n",
       "    </tr>\n",
       "    <tr>\n",
       "      <th>1</th>\n",
       "      <td>2</td>\n",
       "      <td>F</td>\n",
       "      <td>55</td>\n",
       "      <td>0610b486422d4921ae7d2bf64640c50b</td>\n",
       "      <td>20170715</td>\n",
       "      <td>112000.0</td>\n",
       "    </tr>\n",
       "    <tr>\n",
       "      <th>2</th>\n",
       "      <td>3</td>\n",
       "      <td>NaN</td>\n",
       "      <td>118</td>\n",
       "      <td>38fe809add3b4fcf9315a9694bb96ff5</td>\n",
       "      <td>20180712</td>\n",
       "      <td>NaN</td>\n",
       "    </tr>\n",
       "    <tr>\n",
       "      <th>3</th>\n",
       "      <td>4</td>\n",
       "      <td>F</td>\n",
       "      <td>75</td>\n",
       "      <td>78afa995795e4d85b5d9ceeca43f5fef</td>\n",
       "      <td>20170509</td>\n",
       "      <td>100000.0</td>\n",
       "    </tr>\n",
       "    <tr>\n",
       "      <th>4</th>\n",
       "      <td>5</td>\n",
       "      <td>NaN</td>\n",
       "      <td>118</td>\n",
       "      <td>a03223e636434f42ac4c3df47e8bac43</td>\n",
       "      <td>20170804</td>\n",
       "      <td>NaN</td>\n",
       "    </tr>\n",
       "  </tbody>\n",
       "</table>\n",
       "</div>"
      ],
      "text/plain": [
       "   Unnamed: 0 genero  idade                                id  membro_desde  \\\n",
       "0           1    NaN    118  68be06ca386d4c31939f3a4f0e3dd783      20170212   \n",
       "1           2      F     55  0610b486422d4921ae7d2bf64640c50b      20170715   \n",
       "2           3    NaN    118  38fe809add3b4fcf9315a9694bb96ff5      20180712   \n",
       "3           4      F     75  78afa995795e4d85b5d9ceeca43f5fef      20170509   \n",
       "4           5    NaN    118  a03223e636434f42ac4c3df47e8bac43      20170804   \n",
       "\n",
       "   renda_anual  \n",
       "0          NaN  \n",
       "1     112000.0  \n",
       "2          NaN  \n",
       "3     100000.0  \n",
       "4          NaN  "
      ]
     },
     "metadata": {},
     "output_type": "display_data"
    }
   ],
   "source": [
    "display(clientes.head())"
   ]
  },
  {
   "cell_type": "code",
   "execution_count": 15,
   "id": "834b00f7-2b39-453f-a3eb-95f9329b62dd",
   "metadata": {},
   "outputs": [],
   "source": [
    "ofertas_clientes = pd.merge(ofertas, clientes, left_on='cliente', right_on='id')"
   ]
  },
  {
   "cell_type": "code",
   "execution_count": 17,
   "id": "83f607f3-c3d4-4922-a44c-4f05d101c17a",
   "metadata": {},
   "outputs": [
    {
     "data": {
      "text/html": [
       "<div>\n",
       "<style scoped>\n",
       "    .dataframe tbody tr th:only-of-type {\n",
       "        vertical-align: middle;\n",
       "    }\n",
       "\n",
       "    .dataframe tbody tr th {\n",
       "        vertical-align: top;\n",
       "    }\n",
       "\n",
       "    .dataframe thead th {\n",
       "        text-align: right;\n",
       "    }\n",
       "</style>\n",
       "<table border=\"1\" class=\"dataframe\">\n",
       "  <thead>\n",
       "    <tr style=\"text-align: right;\">\n",
       "      <th></th>\n",
       "      <th>Unnamed: 0_x</th>\n",
       "      <th>cliente</th>\n",
       "      <th>tempo_decorrido</th>\n",
       "      <th>valor</th>\n",
       "      <th>id_oferta</th>\n",
       "      <th>recompensa</th>\n",
       "      <th>tipo_evento</th>\n",
       "      <th>Unnamed: 0_y</th>\n",
       "      <th>genero</th>\n",
       "      <th>idade</th>\n",
       "      <th>id</th>\n",
       "      <th>membro_desde</th>\n",
       "      <th>renda_anual</th>\n",
       "    </tr>\n",
       "  </thead>\n",
       "  <tbody>\n",
       "    <tr>\n",
       "      <th>0</th>\n",
       "      <td>1</td>\n",
       "      <td>78afa995795e4d85b5d9ceeca43f5fef</td>\n",
       "      <td>0</td>\n",
       "      <td>NaN</td>\n",
       "      <td>9b98b8c7a33c4b65b9aebfe6a799e6d9</td>\n",
       "      <td>NaN</td>\n",
       "      <td>oferta recebida</td>\n",
       "      <td>4</td>\n",
       "      <td>F</td>\n",
       "      <td>75</td>\n",
       "      <td>78afa995795e4d85b5d9ceeca43f5fef</td>\n",
       "      <td>20170509</td>\n",
       "      <td>100000.0</td>\n",
       "    </tr>\n",
       "    <tr>\n",
       "      <th>1</th>\n",
       "      <td>15562</td>\n",
       "      <td>78afa995795e4d85b5d9ceeca43f5fef</td>\n",
       "      <td>6</td>\n",
       "      <td>NaN</td>\n",
       "      <td>9b98b8c7a33c4b65b9aebfe6a799e6d9</td>\n",
       "      <td>NaN</td>\n",
       "      <td>oferta visualizada</td>\n",
       "      <td>4</td>\n",
       "      <td>F</td>\n",
       "      <td>75</td>\n",
       "      <td>78afa995795e4d85b5d9ceeca43f5fef</td>\n",
       "      <td>20170509</td>\n",
       "      <td>100000.0</td>\n",
       "    </tr>\n",
       "    <tr>\n",
       "      <th>2</th>\n",
       "      <td>47583</td>\n",
       "      <td>78afa995795e4d85b5d9ceeca43f5fef</td>\n",
       "      <td>132</td>\n",
       "      <td>19.89</td>\n",
       "      <td>NaN</td>\n",
       "      <td>NaN</td>\n",
       "      <td>transacao</td>\n",
       "      <td>4</td>\n",
       "      <td>F</td>\n",
       "      <td>75</td>\n",
       "      <td>78afa995795e4d85b5d9ceeca43f5fef</td>\n",
       "      <td>20170509</td>\n",
       "      <td>100000.0</td>\n",
       "    </tr>\n",
       "    <tr>\n",
       "      <th>3</th>\n",
       "      <td>47584</td>\n",
       "      <td>78afa995795e4d85b5d9ceeca43f5fef</td>\n",
       "      <td>132</td>\n",
       "      <td>NaN</td>\n",
       "      <td>9b98b8c7a33c4b65b9aebfe6a799e6d9</td>\n",
       "      <td>5.0</td>\n",
       "      <td>oferta conclu�da</td>\n",
       "      <td>4</td>\n",
       "      <td>F</td>\n",
       "      <td>75</td>\n",
       "      <td>78afa995795e4d85b5d9ceeca43f5fef</td>\n",
       "      <td>20170509</td>\n",
       "      <td>100000.0</td>\n",
       "    </tr>\n",
       "    <tr>\n",
       "      <th>4</th>\n",
       "      <td>49503</td>\n",
       "      <td>78afa995795e4d85b5d9ceeca43f5fef</td>\n",
       "      <td>144</td>\n",
       "      <td>17.78</td>\n",
       "      <td>NaN</td>\n",
       "      <td>NaN</td>\n",
       "      <td>transacao</td>\n",
       "      <td>4</td>\n",
       "      <td>F</td>\n",
       "      <td>75</td>\n",
       "      <td>78afa995795e4d85b5d9ceeca43f5fef</td>\n",
       "      <td>20170509</td>\n",
       "      <td>100000.0</td>\n",
       "    </tr>\n",
       "  </tbody>\n",
       "</table>\n",
       "</div>"
      ],
      "text/plain": [
       "   Unnamed: 0_x                           cliente  tempo_decorrido  valor  \\\n",
       "0             1  78afa995795e4d85b5d9ceeca43f5fef                0    NaN   \n",
       "1         15562  78afa995795e4d85b5d9ceeca43f5fef                6    NaN   \n",
       "2         47583  78afa995795e4d85b5d9ceeca43f5fef              132  19.89   \n",
       "3         47584  78afa995795e4d85b5d9ceeca43f5fef              132    NaN   \n",
       "4         49503  78afa995795e4d85b5d9ceeca43f5fef              144  17.78   \n",
       "\n",
       "                          id_oferta  recompensa         tipo_evento  \\\n",
       "0  9b98b8c7a33c4b65b9aebfe6a799e6d9         NaN     oferta recebida   \n",
       "1  9b98b8c7a33c4b65b9aebfe6a799e6d9         NaN  oferta visualizada   \n",
       "2                               NaN         NaN           transacao   \n",
       "3  9b98b8c7a33c4b65b9aebfe6a799e6d9         5.0    oferta conclu�da   \n",
       "4                               NaN         NaN           transacao   \n",
       "\n",
       "   Unnamed: 0_y genero  idade                                id  membro_desde  \\\n",
       "0             4      F     75  78afa995795e4d85b5d9ceeca43f5fef      20170509   \n",
       "1             4      F     75  78afa995795e4d85b5d9ceeca43f5fef      20170509   \n",
       "2             4      F     75  78afa995795e4d85b5d9ceeca43f5fef      20170509   \n",
       "3             4      F     75  78afa995795e4d85b5d9ceeca43f5fef      20170509   \n",
       "4             4      F     75  78afa995795e4d85b5d9ceeca43f5fef      20170509   \n",
       "\n",
       "   renda_anual  \n",
       "0     100000.0  \n",
       "1     100000.0  \n",
       "2     100000.0  \n",
       "3     100000.0  \n",
       "4     100000.0  "
      ]
     },
     "metadata": {},
     "output_type": "display_data"
    },
    {
     "data": {
      "text/plain": [
       "<Axes: >"
      ]
     },
     "execution_count": 17,
     "metadata": {},
     "output_type": "execute_result"
    },
    {
     "data": {
      "image/png": "[encoded data removed]",
      "text/plain": [
       "<Figure size 640x480 with 1 Axes>"
      ]
     },
     "metadata": {},
     "output_type": "display_data"
    }
   ],
   "source": [
    "display(ofertas_clientes.head())\n",
    "ofertas_clientes.plot()"
   ]
  },
  {
   "cell_type": "code",
   "execution_count": 21,
   "id": "0ff7119a-093a-43fe-ad62-da8af751a791",
   "metadata": {},
   "outputs": [
    {
     "ename": "AttributeError",
     "evalue": "'list' object has no attribute 'plot'",
     "output_type": "error",
     "traceback": [
      "\u001b[0;31m---------------------------------------------------------------------------\u001b[0m",
      "\u001b[0;31mAttributeError\u001b[0m                            Traceback (most recent call last)",
      "Cell \u001b[0;32mIn[21], line 4\u001b[0m\n\u001b[1;32m      1\u001b[0m recompensas_por_id \u001b[38;5;241m=\u001b[39m ofertas\u001b[38;5;241m.\u001b[39mgroupby(\u001b[38;5;124m'\u001b[39m\u001b[38;5;124mcliente\u001b[39m\u001b[38;5;124m'\u001b[39m)[\u001b[38;5;124m'\u001b[39m\u001b[38;5;124mrecompensa\u001b[39m\u001b[38;5;124m'\u001b[39m]\u001b[38;5;241m.\u001b[39msum()\n\u001b[1;32m      3\u001b[0m top_1000_ids \u001b[38;5;241m=\u001b[39m recompensas_por_id\u001b[38;5;241m.\u001b[39mnlargest(\u001b[38;5;241m1000\u001b[39m)\u001b[38;5;241m.\u001b[39mindex\u001b[38;5;241m.\u001b[39mtolist()\n\u001b[0;32m----> 4\u001b[0m \u001b[43mtop_1000_ids\u001b[49m\u001b[38;5;241;43m.\u001b[39;49m\u001b[43mplot\u001b[49m()\n",
      "\u001b[0;31mAttributeError\u001b[0m: 'list' object has no attribute 'plot'"
     ]
    }
   ],
   "source": [
    "recompensas_por_id = ofertas.groupby('cliente')['recompensa'].sum()\n",
    "recompensas_por_id.plot()\n",
    "top_1000_ids = recompensas_por_id.nlargest(1000).index.tolist()\n"
   ]
  },
  {
   "cell_type": "code",
   "execution_count": null,
   "id": "d8277a7c-fd05-4c38-ab21-5497a032444e",
   "metadata": {},
   "outputs": [],
   "source": []
  }
 ],
 "metadata": {
  "kernelspec": {
   "display_name": "Python 3 (ipykernel)",
   "language": "python",
   "name": "python3"
  },
  "language_info": {
   "codemirror_mode": {
    "name": "ipython",
    "version": 3
   },
   "file_extension": ".py",
   "mimetype": "text/x-python",
   "name": "python",
   "nbconvert_exporter": "python",
   "pygments_lexer": "ipython3",
   "version": "3.10.6"
  }
 },
 "nbformat": 4,
 "nbformat_minor": 5
}
